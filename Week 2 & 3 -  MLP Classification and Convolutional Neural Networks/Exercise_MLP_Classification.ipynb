{
 "cells": [
  {
   "cell_type": "markdown",
   "metadata": {
    "id": "rZDq2nwZp2dv"
   },
   "source": [
    "## Classification Exercises\n",
    "\n",
    "For these exercises use the GPU in Google Colab. To enable GPU go to top menu bar in **EDIT** menu go to **NoteBook Settings**. Once you click it a window opens, in the hardware accelerator dropdown menu choose GPU. \n",
    "\n",
    "![alt](https://drive.google.com/uc?id=1rZf9pvb5rqY4rFwYqUhdmPkSrzaXBhPg)\n",
    "\n",
    "### Introduction\n",
    "\n",
    "We have already learned about Neural Networks and discussed Multilayered Perceptrons in depth. In this exercise, we will be testing our understanding of the underlying concepts with special emphasis to [Hyperparameter tuning](https://towardsdatascience.com/understanding-hyperparameters-and-its-optimisation-techniques-f0debba07568). \n",
    "\n",
    "After doing these exercises, you would be able to better understand:\n",
    "\n",
    "* The architecture of a neural network\n",
    "* The parameters (training) of a neural network and how they change with changing architecture.\n",
    "* Hyperparameter tuning: batch size, number of hidden units and optimizers.\n",
    "\n",
    "We encourage you to work with other hyperparameters as well like learning rate, number of layers, activation functions etc.  And in the end there is an optional exercise, where you can see if what you observe for the MNIST dataset is true for other dataset as well.\n",
    "\n",
    "The Notebook is divided in three parts: Building the Model, Reading the dataset and Hyperparameters. It contains five exercises in total and one additional optional exercise:\n",
    "\n",
    "* [Exercise 1](#ex_1)\n",
    "* [Exercise 2](#ex_2)\n",
    "* [Exercise 3](#ex_3)\n",
    "* [Exercise 4](#ex_4)\n",
    "* [Exercise 5](#ex_5)\n",
    "* [Optional Exercise](#ex_O)\n",
    "\n",
    "\n",
    "You have to do all the five exercises. Run the code given with each exercise and write down your answer just below each exercise. Wish you all the best.\n",
    "\n",
    "\n",
    "### Part 1: Building the model\n",
    "Below we define a function to built a neural network model using TensorFlow Keras. "
   ]
  },
  {
   "cell_type": "code",
   "execution_count": 1,
   "metadata": {
    "executionInfo": {
     "elapsed": 2004,
     "status": "ok",
     "timestamp": 1604871264412,
     "user": {
      "displayName": "André Oliveira",
      "photoUrl": "",
      "userId": "17401140001147450864"
     },
     "user_tz": 0
    },
    "id": "3mhZ0xlMRqO6"
   },
   "outputs": [],
   "source": [
    "import tensorflow as tf\n",
    "import numpy as np\n",
    "from tensorflow import keras\n",
    "\n",
    "def built_model(input_shape, n_hidden, nb_classes, optimizer='SGD'):\n",
    "  '''\n",
    "  The function builds a fully connected neural network with two hidden layers\n",
    "  Arguments:\n",
    "  input_shape: The number of inputs to the neural network\n",
    "  n_hidden: Number of hidden neurons in the hidden layers\n",
    "  nb_classes: Number of neurons in the output layer\n",
    "  optimizer: The optimizer used to train the model. \n",
    "  By default we use Stochastic Gradient Descent.\n",
    "  \n",
    "  Returns:\n",
    "  The function returns A model with loss and optimizer defined\n",
    "  '''  \n",
    "  model = tf.keras.models.Sequential()\n",
    "  ## First Hidden layer  \n",
    "  model.add(keras.layers.Dense(n_hidden,\n",
    "       input_shape=(input_shape,),\n",
    "       name='dense_layer', activation='relu'))\n",
    "    \n",
    "  ## Second Hidden Layer\n",
    "  model.add(keras.layers.Dense(n_hidden,\n",
    "        name='dense_layer_2', activation='relu'))\n",
    "    \n",
    "  ## Output Layer  \n",
    "  model.add(keras.layers.Dense(nb_classes,\n",
    "        name='dense_layer_3', activation='softmax'))\n",
    "    \n",
    "  ## Define loss and optimizer \n",
    "  model.compile(optimizer=optimizer, \n",
    "              loss='categorical_crossentropy',\n",
    "              metrics=['accuracy'])\n",
    "  return model\n"
   ]
  },
  {
   "cell_type": "markdown",
   "metadata": {
    "id": "q5E0fCSDrwu_"
   },
   "source": [
    "<a id='ex_1'></a>\n",
    "**Exercise 1** What should be the values of the arguments `INPUT_SHAPE`: the number of input units, `N_HIDDEN`: the number of hidden units, and `NB_CLASSES`: the number of output units, if we want to build a model using `built_model` function with the specifications given in the figure:\n",
    "\n",
    "![](https://drive.google.com/uc?id=1pcj2sHJK6CmhMjUo43AMNBxnU4ixQne3)\n",
    "\n",
    "\n",
    "\n",
    "To build this network we used TensorFlow Keras `plot_model` function available in `utils` model. You can learn more about the function from [TensorFlow docs](https://www.tensorflow.org/api_docs/python/tf/keras/utils/plot_model). "
   ]
  },
  {
   "cell_type": "code",
   "execution_count": 2,
   "metadata": {
    "executionInfo": {
     "elapsed": 1997,
     "status": "ok",
     "timestamp": 1604871264413,
     "user": {
      "displayName": "André Oliveira",
      "photoUrl": "",
      "userId": "17401140001147450864"
     },
     "user_tz": 0
    },
    "id": "sBfRdV8ARuCe"
   },
   "outputs": [],
   "source": [
    "# Task to do\n",
    "INPUT_SHAPE = 5\n",
    "N_HIDDEN = 10\n",
    "NB_CLASSES = 2 \n",
    "\n",
    "\n",
    "## Do not change anything below\n",
    "assert(INPUT_SHAPE == 5), \"Input shape incorrect\"\n",
    "assert(N_HIDDEN == 10), \"Number of hidden neurons incorrect\"\n",
    "assert(NB_CLASSES == 2), \"Number of output units incorrect\""
   ]
  },
  {
   "cell_type": "code",
   "execution_count": 3,
   "metadata": {
    "executionInfo": {
     "elapsed": 7523,
     "status": "ok",
     "timestamp": 1604871269941,
     "user": {
      "displayName": "André Oliveira",
      "photoUrl": "",
      "userId": "17401140001147450864"
     },
     "user_tz": 0
    },
    "id": "s00urUTcqfZR"
   },
   "outputs": [],
   "source": [
    "model = built_model(INPUT_SHAPE, N_HIDDEN,NB_CLASSES)"
   ]
  },
  {
   "cell_type": "markdown",
   "metadata": {
    "id": "mTccrPMNyZF5"
   },
   "source": [
    "<a id='ex_2'></a>\n",
    "**Exercise 2** Based on the input, hidden and output units what are the total number of trainable parameters in this model?"
   ]
  },
  {
   "cell_type": "code",
   "execution_count": 4,
   "metadata": {
    "colab": {
     "base_uri": "https://localhost:8080/"
    },
    "executionInfo": {
     "elapsed": 7490,
     "status": "ok",
     "timestamp": 1604871269943,
     "user": {
      "displayName": "André Oliveira",
      "photoUrl": "",
      "userId": "17401140001147450864"
     },
     "user_tz": 0
    },
    "id": "3DchkRcAyXM6",
    "outputId": "950f7b35-0414-4ac1-82ee-646e62a30264"
   },
   "outputs": [
    {
     "name": "stdout",
     "output_type": "stream",
     "text": [
      "Number of trainable parameters in the model are 192\n"
     ]
    }
   ],
   "source": [
    "# Task to do\n",
    "trainable_parameters = (2*10+1*2)+(10*10+1*10)+(5*10+1*10)  # n_parameters = (output*input)+1*output\n",
    "\n",
    "## Do not change anything below\n",
    "assert trainable_parameters==model.count_params(), \"Your answer is incorrect\"\n",
    "print(\"Number of trainable parameters in the model are\", trainable_parameters)"
   ]
  },
  {
   "cell_type": "markdown",
   "metadata": {
    "id": "g33IqZrGzLeW"
   },
   "source": [
    "Good work! Let us now visualize the summary of the model created. "
   ]
  },
  {
   "cell_type": "code",
   "execution_count": 5,
   "metadata": {
    "colab": {
     "base_uri": "https://localhost:8080/"
    },
    "executionInfo": {
     "elapsed": 7484,
     "status": "ok",
     "timestamp": 1604871269944,
     "user": {
      "displayName": "André Oliveira",
      "photoUrl": "",
      "userId": "17401140001147450864"
     },
     "user_tz": 0
    },
    "id": "f4OteoBfx_QH",
    "outputId": "fe8b80c3-8f2c-41ff-c7e0-25f038aedc4e"
   },
   "outputs": [
    {
     "name": "stdout",
     "output_type": "stream",
     "text": [
      "Model: \"sequential\"\n",
      "_________________________________________________________________\n",
      "Layer (type)                 Output Shape              Param #   \n",
      "=================================================================\n",
      "dense_layer (Dense)          (None, 10)                60        \n",
      "_________________________________________________________________\n",
      "dense_layer_2 (Dense)        (None, 10)                110       \n",
      "_________________________________________________________________\n",
      "dense_layer_3 (Dense)        (None, 2)                 22        \n",
      "=================================================================\n",
      "Total params: 192\n",
      "Trainable params: 192\n",
      "Non-trainable params: 0\n",
      "_________________________________________________________________\n"
     ]
    }
   ],
   "source": [
    "model.summary()"
   ]
  },
  {
   "cell_type": "markdown",
   "metadata": {
    "id": "2qeqEE5A3MQl"
   },
   "source": [
    "### Part 2: Reading the dataset\n",
    "\n",
    "We will continue with the MNIST dataset. \n",
    "\n",
    "###### Just run the cells in this part of the notebook. Do not change anything."
   ]
  },
  {
   "cell_type": "code",
   "execution_count": 6,
   "metadata": {
    "colab": {
     "base_uri": "https://localhost:8080/"
    },
    "executionInfo": {
     "elapsed": 7843,
     "status": "ok",
     "timestamp": 1604871270309,
     "user": {
      "displayName": "André Oliveira",
      "photoUrl": "",
      "userId": "17401140001147450864"
     },
     "user_tz": 0
    },
    "id": "D3OEjwzLyBoO",
    "outputId": "ee4a7189-c17c-43de-970e-f1c98d4285b5"
   },
   "outputs": [
    {
     "name": "stdout",
     "output_type": "stream",
     "text": [
      "Downloading data from https://storage.googleapis.com/tensorflow/tf-keras-datasets/mnist.npz\n",
      "11493376/11490434 [==============================] - 0s 0us/step\n"
     ]
    }
   ],
   "source": [
    "mnist = keras.datasets.mnist\n",
    "(X_train, Y_train), (X_test, Y_test) = mnist.load_data()"
   ]
  },
  {
   "cell_type": "code",
   "execution_count": 7,
   "metadata": {
    "executionInfo": {
     "elapsed": 7842,
     "status": "ok",
     "timestamp": 1604871270311,
     "user": {
      "displayName": "André Oliveira",
      "photoUrl": "",
      "userId": "17401140001147450864"
     },
     "user_tz": 0
    },
    "id": "94uZnloL4-lB"
   },
   "outputs": [],
   "source": [
    "# Processing the data\n",
    "assert(len(X_train.shape)==3), \"The input data is not of the right shape\"\n",
    "RESHAPED = X_train.shape[1]*X_train.shape[2]\n",
    "\n",
    "X_train = X_train.reshape(60000, RESHAPED)\n",
    "X_test = X_test.reshape(10000, RESHAPED)\n",
    "X_train = X_train.astype('float32')\n",
    "X_test = X_test.astype('float32')"
   ]
  },
  {
   "cell_type": "code",
   "execution_count": 8,
   "metadata": {
    "colab": {
     "base_uri": "https://localhost:8080/"
    },
    "executionInfo": {
     "elapsed": 7837,
     "status": "ok",
     "timestamp": 1604871270312,
     "user": {
      "displayName": "André Oliveira",
      "photoUrl": "",
      "userId": "17401140001147450864"
     },
     "user_tz": 0
    },
    "id": "BJIMT6sT5Wtd",
    "outputId": "2bb64ee9-cc28-466e-a44d-d87d89313f0a"
   },
   "outputs": [
    {
     "name": "stdout",
     "output_type": "stream",
     "text": [
      "60000 train samples\n",
      "10000 test samples\n"
     ]
    }
   ],
   "source": [
    "# Data Normalization\n",
    "X_train, X_test = X_train / 255.0, X_test / 255.0\n",
    "print(X_train.shape[0], 'train samples')\n",
    "print(X_test.shape[0], 'test samples')"
   ]
  },
  {
   "cell_type": "markdown",
   "metadata": {
    "id": "HIRrNUTj4h_R"
   },
   "source": [
    "For the MNIST dataset the number of input and number of output units are fixed. However we can choose different values of hidden units. "
   ]
  },
  {
   "cell_type": "code",
   "execution_count": 9,
   "metadata": {
    "executionInfo": {
     "elapsed": 8076,
     "status": "ok",
     "timestamp": 1604871270553,
     "user": {
      "displayName": "André Oliveira",
      "photoUrl": "",
      "userId": "17401140001147450864"
     },
     "user_tz": 0
    },
    "id": "si1FflpL3_hj"
   },
   "outputs": [],
   "source": [
    "INPUT_SHAPE = RESHAPED\n",
    "NB_CLASSES = len(set(Y_train))"
   ]
  },
  {
   "cell_type": "code",
   "execution_count": 10,
   "metadata": {
    "executionInfo": {
     "elapsed": 8075,
     "status": "ok",
     "timestamp": 1604871270553,
     "user": {
      "displayName": "André Oliveira",
      "photoUrl": "",
      "userId": "17401140001147450864"
     },
     "user_tz": 0
    },
    "id": "ISwN58Q48a03"
   },
   "outputs": [],
   "source": [
    "# one-hot encode\n",
    "Y_train = tf.keras.utils.to_categorical(Y_train, NB_CLASSES)\n",
    "Y_test = tf.keras.utils.to_categorical(Y_test, NB_CLASSES)"
   ]
  },
  {
   "cell_type": "markdown",
   "metadata": {
    "id": "-gjEx-hQ6Xsv"
   },
   "source": [
    "### Part 3: Hyperparameters\n",
    "\n",
    "<a id='ex_3'></a>\n",
    "**Exercise 3:** The aim of this exercise is to understand the affect of changing number of hidden units on the model performance. Change the number of hidden units, and train the model. Compare the model performance in terms of accuracy. What do you understand from this?"
   ]
  },
  {
   "cell_type": "markdown",
   "metadata": {
    "id": "MWggLtWe7MUR"
   },
   "source": [
    "**Answer** \n",
    "I tried a set of five different values `[32,64,128,256,512]` and the accuracy has increased with the increase of the number of hidden units, it ranged from 95.4% to 96.9%. It seems that the model's accuracy increases with the network's complexity."
   ]
  },
  {
   "cell_type": "code",
   "execution_count": 11,
   "metadata": {
    "executionInfo": {
     "elapsed": 8073,
     "status": "ok",
     "timestamp": 1604871270554,
     "user": {
      "displayName": "André Oliveira",
      "photoUrl": "",
      "userId": "17401140001147450864"
     },
     "user_tz": 0
    },
    "id": "qscy8jLk6BEA"
   },
   "outputs": [],
   "source": [
    "# Task to do choose different values for number of hidden units (minimum five different values)\n",
    "N_HIDDEN = 512"
   ]
  },
  {
   "cell_type": "code",
   "execution_count": 12,
   "metadata": {
    "colab": {
     "base_uri": "https://localhost:8080/"
    },
    "executionInfo": {
     "elapsed": 65831,
     "status": "ok",
     "timestamp": 1604871328318,
     "user": {
      "displayName": "André Oliveira",
      "photoUrl": "",
      "userId": "17401140001147450864"
     },
     "user_tz": 0
    },
    "id": "9yG8aKH37krD",
    "outputId": "13c2aff9-b797-4389-95e7-44836a030a06"
   },
   "outputs": [
    {
     "name": "stdout",
     "output_type": "stream",
     "text": [
      "Epoch 1/50\n",
      "  1/375 [..............................] - ETA: 0s - loss: 2.3508 - accuracy: 0.1172WARNING:tensorflow:Callbacks method `on_train_batch_end` is slow compared to the batch time (batch time: 0.0024s vs `on_train_batch_end` time: 0.0046s). Check your callbacks.\n",
      "375/375 [==============================] - 1s 3ms/step - loss: 1.2322 - accuracy: 0.7362 - val_loss: 0.5884 - val_accuracy: 0.8678\n",
      "Epoch 2/50\n",
      "375/375 [==============================] - 1s 3ms/step - loss: 0.5032 - accuracy: 0.8746 - val_loss: 0.3970 - val_accuracy: 0.8953\n",
      "Epoch 3/50\n",
      "375/375 [==============================] - 1s 3ms/step - loss: 0.3922 - accuracy: 0.8938 - val_loss: 0.3400 - val_accuracy: 0.9073\n",
      "Epoch 4/50\n",
      "375/375 [==============================] - 1s 3ms/step - loss: 0.3452 - accuracy: 0.9048 - val_loss: 0.3077 - val_accuracy: 0.9143\n",
      "Epoch 5/50\n",
      "375/375 [==============================] - 1s 3ms/step - loss: 0.3165 - accuracy: 0.9119 - val_loss: 0.2871 - val_accuracy: 0.9191\n",
      "Epoch 6/50\n",
      "375/375 [==============================] - 1s 3ms/step - loss: 0.2957 - accuracy: 0.9168 - val_loss: 0.2722 - val_accuracy: 0.9237\n",
      "Epoch 7/50\n",
      "375/375 [==============================] - 1s 3ms/step - loss: 0.2791 - accuracy: 0.9214 - val_loss: 0.2586 - val_accuracy: 0.9262\n",
      "Epoch 8/50\n",
      "375/375 [==============================] - 1s 3ms/step - loss: 0.2654 - accuracy: 0.9253 - val_loss: 0.2489 - val_accuracy: 0.9288\n",
      "Epoch 9/50\n",
      "375/375 [==============================] - 1s 3ms/step - loss: 0.2534 - accuracy: 0.9284 - val_loss: 0.2393 - val_accuracy: 0.9317\n",
      "Epoch 10/50\n",
      "375/375 [==============================] - 1s 3ms/step - loss: 0.2424 - accuracy: 0.9313 - val_loss: 0.2299 - val_accuracy: 0.9333\n",
      "Epoch 11/50\n",
      "375/375 [==============================] - 1s 3ms/step - loss: 0.2329 - accuracy: 0.9348 - val_loss: 0.2208 - val_accuracy: 0.9357\n",
      "Epoch 12/50\n",
      "375/375 [==============================] - 1s 3ms/step - loss: 0.2242 - accuracy: 0.9371 - val_loss: 0.2140 - val_accuracy: 0.9388\n",
      "Epoch 13/50\n",
      "375/375 [==============================] - 1s 3ms/step - loss: 0.2158 - accuracy: 0.9396 - val_loss: 0.2073 - val_accuracy: 0.9428\n",
      "Epoch 14/50\n",
      "375/375 [==============================] - 1s 3ms/step - loss: 0.2081 - accuracy: 0.9413 - val_loss: 0.2026 - val_accuracy: 0.9436\n",
      "Epoch 15/50\n",
      "375/375 [==============================] - 1s 3ms/step - loss: 0.2008 - accuracy: 0.9434 - val_loss: 0.1968 - val_accuracy: 0.9459\n",
      "Epoch 16/50\n",
      "375/375 [==============================] - 1s 3ms/step - loss: 0.1943 - accuracy: 0.9451 - val_loss: 0.1907 - val_accuracy: 0.9480\n",
      "Epoch 17/50\n",
      "375/375 [==============================] - 1s 3ms/step - loss: 0.1881 - accuracy: 0.9469 - val_loss: 0.1851 - val_accuracy: 0.9493\n",
      "Epoch 18/50\n",
      "375/375 [==============================] - 1s 3ms/step - loss: 0.1821 - accuracy: 0.9486 - val_loss: 0.1804 - val_accuracy: 0.9494\n",
      "Epoch 19/50\n",
      "375/375 [==============================] - 1s 3ms/step - loss: 0.1766 - accuracy: 0.9499 - val_loss: 0.1763 - val_accuracy: 0.9509\n",
      "Epoch 20/50\n",
      "375/375 [==============================] - 1s 3ms/step - loss: 0.1709 - accuracy: 0.9518 - val_loss: 0.1732 - val_accuracy: 0.9517\n",
      "Epoch 21/50\n",
      "375/375 [==============================] - 1s 3ms/step - loss: 0.1659 - accuracy: 0.9529 - val_loss: 0.1694 - val_accuracy: 0.9523\n",
      "Epoch 22/50\n",
      "375/375 [==============================] - 1s 3ms/step - loss: 0.1613 - accuracy: 0.9545 - val_loss: 0.1647 - val_accuracy: 0.9546\n",
      "Epoch 23/50\n",
      "375/375 [==============================] - 1s 3ms/step - loss: 0.1567 - accuracy: 0.9559 - val_loss: 0.1608 - val_accuracy: 0.9560\n",
      "Epoch 24/50\n",
      "375/375 [==============================] - 1s 3ms/step - loss: 0.1523 - accuracy: 0.9569 - val_loss: 0.1579 - val_accuracy: 0.9562\n",
      "Epoch 25/50\n",
      "375/375 [==============================] - 1s 3ms/step - loss: 0.1481 - accuracy: 0.9580 - val_loss: 0.1548 - val_accuracy: 0.9575\n",
      "Epoch 26/50\n",
      "375/375 [==============================] - 1s 3ms/step - loss: 0.1442 - accuracy: 0.9589 - val_loss: 0.1518 - val_accuracy: 0.9589\n",
      "Epoch 27/50\n",
      "375/375 [==============================] - 1s 3ms/step - loss: 0.1404 - accuracy: 0.9602 - val_loss: 0.1500 - val_accuracy: 0.9582\n",
      "Epoch 28/50\n",
      "375/375 [==============================] - 1s 3ms/step - loss: 0.1367 - accuracy: 0.9618 - val_loss: 0.1475 - val_accuracy: 0.9590\n",
      "Epoch 29/50\n",
      "375/375 [==============================] - 1s 3ms/step - loss: 0.1333 - accuracy: 0.9626 - val_loss: 0.1445 - val_accuracy: 0.9603\n",
      "Epoch 30/50\n",
      "375/375 [==============================] - 1s 3ms/step - loss: 0.1299 - accuracy: 0.9636 - val_loss: 0.1413 - val_accuracy: 0.9602\n",
      "Epoch 31/50\n",
      "375/375 [==============================] - 1s 3ms/step - loss: 0.1268 - accuracy: 0.9646 - val_loss: 0.1394 - val_accuracy: 0.9616\n",
      "Epoch 32/50\n",
      "375/375 [==============================] - 1s 3ms/step - loss: 0.1235 - accuracy: 0.9657 - val_loss: 0.1379 - val_accuracy: 0.9625\n",
      "Epoch 33/50\n",
      "375/375 [==============================] - 1s 3ms/step - loss: 0.1208 - accuracy: 0.9659 - val_loss: 0.1355 - val_accuracy: 0.9629\n",
      "Epoch 34/50\n",
      "375/375 [==============================] - 1s 3ms/step - loss: 0.1177 - accuracy: 0.9667 - val_loss: 0.1333 - val_accuracy: 0.9628\n",
      "Epoch 35/50\n",
      "375/375 [==============================] - 1s 3ms/step - loss: 0.1152 - accuracy: 0.9678 - val_loss: 0.1304 - val_accuracy: 0.9638\n",
      "Epoch 36/50\n",
      "375/375 [==============================] - 1s 3ms/step - loss: 0.1125 - accuracy: 0.9684 - val_loss: 0.1296 - val_accuracy: 0.9637\n",
      "Epoch 37/50\n",
      "375/375 [==============================] - 1s 3ms/step - loss: 0.1100 - accuracy: 0.9693 - val_loss: 0.1271 - val_accuracy: 0.9647\n",
      "Epoch 38/50\n",
      "375/375 [==============================] - 1s 3ms/step - loss: 0.1075 - accuracy: 0.9700 - val_loss: 0.1257 - val_accuracy: 0.9653\n",
      "Epoch 39/50\n",
      "375/375 [==============================] - 1s 3ms/step - loss: 0.1050 - accuracy: 0.9704 - val_loss: 0.1245 - val_accuracy: 0.9652\n",
      "Epoch 40/50\n",
      "375/375 [==============================] - 1s 3ms/step - loss: 0.1030 - accuracy: 0.9714 - val_loss: 0.1225 - val_accuracy: 0.9657\n",
      "Epoch 41/50\n",
      "375/375 [==============================] - 1s 3ms/step - loss: 0.1005 - accuracy: 0.9721 - val_loss: 0.1225 - val_accuracy: 0.9657\n",
      "Epoch 42/50\n",
      "375/375 [==============================] - 1s 3ms/step - loss: 0.0984 - accuracy: 0.9726 - val_loss: 0.1197 - val_accuracy: 0.9651\n",
      "Epoch 43/50\n",
      "375/375 [==============================] - 1s 3ms/step - loss: 0.0965 - accuracy: 0.9729 - val_loss: 0.1182 - val_accuracy: 0.9667\n",
      "Epoch 44/50\n",
      "375/375 [==============================] - 1s 3ms/step - loss: 0.0944 - accuracy: 0.9741 - val_loss: 0.1174 - val_accuracy: 0.9661\n",
      "Epoch 45/50\n",
      "375/375 [==============================] - 1s 3ms/step - loss: 0.0926 - accuracy: 0.9742 - val_loss: 0.1161 - val_accuracy: 0.9678\n",
      "Epoch 46/50\n",
      "375/375 [==============================] - 1s 3ms/step - loss: 0.0906 - accuracy: 0.9750 - val_loss: 0.1140 - val_accuracy: 0.9684\n",
      "Epoch 47/50\n",
      "375/375 [==============================] - 1s 3ms/step - loss: 0.0887 - accuracy: 0.9756 - val_loss: 0.1131 - val_accuracy: 0.9676\n",
      "Epoch 48/50\n",
      "375/375 [==============================] - 1s 3ms/step - loss: 0.0868 - accuracy: 0.9760 - val_loss: 0.1127 - val_accuracy: 0.9682\n",
      "Epoch 49/50\n",
      "375/375 [==============================] - 1s 3ms/step - loss: 0.0851 - accuracy: 0.9764 - val_loss: 0.1112 - val_accuracy: 0.9688\n",
      "Epoch 50/50\n",
      "375/375 [==============================] - 1s 3ms/step - loss: 0.0834 - accuracy: 0.9772 - val_loss: 0.1107 - val_accuracy: 0.9686\n",
      "313/313 [==============================] - 1s 2ms/step - loss: 0.1060 - accuracy: 0.9692\n",
      "Test accuracy: 96.92 %\n"
     ]
    }
   ],
   "source": [
    "## Do not change anything below\n",
    "model = built_model(INPUT_SHAPE,N_HIDDEN, NB_CLASSES)\n",
    "history = model.fit(X_train, Y_train,\n",
    "\t\tbatch_size=128, epochs=50,\n",
    "\t\tverbose=1, validation_split=0.2)\n",
    "\n",
    "# Evaluate the model\n",
    "test_loss, test_acc = model.evaluate(X_test, Y_test)\n",
    "print('Test accuracy: {:.2f} %'.format(test_acc*100))"
   ]
  },
  {
   "cell_type": "markdown",
   "metadata": {
    "id": "cqfMXnlJA02g"
   },
   "source": [
    "<a id='ex_4'></a>\n",
    "**Exercise 4:** Let us now repeat the same after changing the batch size (minimum 5 different values). Compare the model performance in terms of accuracy. What do you understand from this?"
   ]
  },
  {
   "cell_type": "markdown",
   "metadata": {
    "id": "9z0TctxjB0KA"
   },
   "source": [
    "**Answer** I tried a set of five different values `[32,64,128,256,512]` and the accuracy has decreased with the increase of batch size, it ranged from 97.8% to 92.9%."
   ]
  },
  {
   "cell_type": "code",
   "execution_count": 13,
   "metadata": {
    "executionInfo": {
     "elapsed": 65833,
     "status": "ok",
     "timestamp": 1604871328322,
     "user": {
      "displayName": "André Oliveira",
      "photoUrl": "",
      "userId": "17401140001147450864"
     },
     "user_tz": 0
    },
    "id": "TXO0QZtS_mQ_"
   },
   "outputs": [],
   "source": [
    "# Task to do choose different values for batch size (minimum five different values)\n",
    "BATCH_SIZE = 512"
   ]
  },
  {
   "cell_type": "code",
   "execution_count": 14,
   "metadata": {
    "colab": {
     "base_uri": "https://localhost:8080/"
    },
    "executionInfo": {
     "elapsed": 85965,
     "status": "ok",
     "timestamp": 1604871348460,
     "user": {
      "displayName": "André Oliveira",
      "photoUrl": "",
      "userId": "17401140001147450864"
     },
     "user_tz": 0
    },
    "id": "S1CVvMthBmWr",
    "outputId": "25e8df46-3c83-487b-f4de-1292553eb58b"
   },
   "outputs": [
    {
     "name": "stdout",
     "output_type": "stream",
     "text": [
      "Epoch 1/50\n",
      "94/94 [==============================] - 0s 5ms/step - loss: 2.0903 - accuracy: 0.3837 - val_loss: 1.8315 - val_accuracy: 0.5642\n",
      "Epoch 2/50\n",
      "94/94 [==============================] - 0s 4ms/step - loss: 1.5693 - accuracy: 0.6465 - val_loss: 1.2961 - val_accuracy: 0.7374\n",
      "Epoch 3/50\n",
      "94/94 [==============================] - 0s 4ms/step - loss: 1.1168 - accuracy: 0.7653 - val_loss: 0.9225 - val_accuracy: 0.8180\n",
      "Epoch 4/50\n",
      "94/94 [==============================] - 0s 4ms/step - loss: 0.8386 - accuracy: 0.8182 - val_loss: 0.7119 - val_accuracy: 0.8451\n",
      "Epoch 5/50\n",
      "94/94 [==============================] - 0s 4ms/step - loss: 0.6817 - accuracy: 0.8428 - val_loss: 0.5928 - val_accuracy: 0.8633\n",
      "Epoch 6/50\n",
      "94/94 [==============================] - 0s 4ms/step - loss: 0.5883 - accuracy: 0.8570 - val_loss: 0.5202 - val_accuracy: 0.8723\n",
      "Epoch 7/50\n",
      "94/94 [==============================] - 0s 4ms/step - loss: 0.5279 - accuracy: 0.8659 - val_loss: 0.4728 - val_accuracy: 0.8788\n",
      "Epoch 8/50\n",
      "94/94 [==============================] - 0s 4ms/step - loss: 0.4859 - accuracy: 0.8731 - val_loss: 0.4383 - val_accuracy: 0.8846\n",
      "Epoch 9/50\n",
      "94/94 [==============================] - 0s 4ms/step - loss: 0.4551 - accuracy: 0.8796 - val_loss: 0.4134 - val_accuracy: 0.8895\n",
      "Epoch 10/50\n",
      "94/94 [==============================] - 0s 4ms/step - loss: 0.4316 - accuracy: 0.8836 - val_loss: 0.3939 - val_accuracy: 0.8936\n",
      "Epoch 11/50\n",
      "94/94 [==============================] - 0s 4ms/step - loss: 0.4131 - accuracy: 0.8878 - val_loss: 0.3791 - val_accuracy: 0.8955\n",
      "Epoch 12/50\n",
      "94/94 [==============================] - 0s 4ms/step - loss: 0.3979 - accuracy: 0.8911 - val_loss: 0.3658 - val_accuracy: 0.8987\n",
      "Epoch 13/50\n",
      "94/94 [==============================] - 0s 4ms/step - loss: 0.3852 - accuracy: 0.8939 - val_loss: 0.3557 - val_accuracy: 0.9007\n",
      "Epoch 14/50\n",
      "94/94 [==============================] - 0s 4ms/step - loss: 0.3744 - accuracy: 0.8957 - val_loss: 0.3465 - val_accuracy: 0.9024\n",
      "Epoch 15/50\n",
      "94/94 [==============================] - 0s 4ms/step - loss: 0.3649 - accuracy: 0.8978 - val_loss: 0.3384 - val_accuracy: 0.9057\n",
      "Epoch 16/50\n",
      "94/94 [==============================] - 0s 4ms/step - loss: 0.3566 - accuracy: 0.8993 - val_loss: 0.3314 - val_accuracy: 0.9072\n",
      "Epoch 17/50\n",
      "94/94 [==============================] - 0s 4ms/step - loss: 0.3491 - accuracy: 0.9012 - val_loss: 0.3253 - val_accuracy: 0.9094\n",
      "Epoch 18/50\n",
      "94/94 [==============================] - 0s 4ms/step - loss: 0.3423 - accuracy: 0.9033 - val_loss: 0.3202 - val_accuracy: 0.9097\n",
      "Epoch 19/50\n",
      "94/94 [==============================] - 0s 4ms/step - loss: 0.3363 - accuracy: 0.9046 - val_loss: 0.3146 - val_accuracy: 0.9107\n",
      "Epoch 20/50\n",
      "94/94 [==============================] - 0s 4ms/step - loss: 0.3305 - accuracy: 0.9060 - val_loss: 0.3098 - val_accuracy: 0.9110\n",
      "Epoch 21/50\n",
      "94/94 [==============================] - 0s 4ms/step - loss: 0.3253 - accuracy: 0.9074 - val_loss: 0.3054 - val_accuracy: 0.9119\n",
      "Epoch 22/50\n",
      "94/94 [==============================] - 0s 4ms/step - loss: 0.3204 - accuracy: 0.9086 - val_loss: 0.3014 - val_accuracy: 0.9141\n",
      "Epoch 23/50\n",
      "94/94 [==============================] - 0s 4ms/step - loss: 0.3155 - accuracy: 0.9099 - val_loss: 0.2976 - val_accuracy: 0.9147\n",
      "Epoch 24/50\n",
      "94/94 [==============================] - 0s 4ms/step - loss: 0.3112 - accuracy: 0.9118 - val_loss: 0.2939 - val_accuracy: 0.9158\n",
      "Epoch 25/50\n",
      "94/94 [==============================] - 0s 4ms/step - loss: 0.3071 - accuracy: 0.9127 - val_loss: 0.2902 - val_accuracy: 0.9175\n",
      "Epoch 26/50\n",
      "94/94 [==============================] - 0s 4ms/step - loss: 0.3032 - accuracy: 0.9135 - val_loss: 0.2872 - val_accuracy: 0.9172\n",
      "Epoch 27/50\n",
      "94/94 [==============================] - 0s 4ms/step - loss: 0.2994 - accuracy: 0.9145 - val_loss: 0.2836 - val_accuracy: 0.9198\n",
      "Epoch 28/50\n",
      "94/94 [==============================] - 0s 4ms/step - loss: 0.2958 - accuracy: 0.9156 - val_loss: 0.2812 - val_accuracy: 0.9196\n",
      "Epoch 29/50\n",
      "94/94 [==============================] - 0s 4ms/step - loss: 0.2923 - accuracy: 0.9166 - val_loss: 0.2779 - val_accuracy: 0.9218\n",
      "Epoch 30/50\n",
      "94/94 [==============================] - 0s 4ms/step - loss: 0.2890 - accuracy: 0.9176 - val_loss: 0.2758 - val_accuracy: 0.9221\n",
      "Epoch 31/50\n",
      "94/94 [==============================] - 0s 4ms/step - loss: 0.2859 - accuracy: 0.9182 - val_loss: 0.2725 - val_accuracy: 0.9234\n",
      "Epoch 32/50\n",
      "94/94 [==============================] - 0s 4ms/step - loss: 0.2828 - accuracy: 0.9189 - val_loss: 0.2704 - val_accuracy: 0.9233\n",
      "Epoch 33/50\n",
      "94/94 [==============================] - 0s 4ms/step - loss: 0.2798 - accuracy: 0.9198 - val_loss: 0.2678 - val_accuracy: 0.9240\n",
      "Epoch 34/50\n",
      "94/94 [==============================] - 0s 4ms/step - loss: 0.2769 - accuracy: 0.9209 - val_loss: 0.2653 - val_accuracy: 0.9251\n",
      "Epoch 35/50\n",
      "94/94 [==============================] - 0s 4ms/step - loss: 0.2741 - accuracy: 0.9218 - val_loss: 0.2629 - val_accuracy: 0.9257\n",
      "Epoch 36/50\n",
      "94/94 [==============================] - 0s 4ms/step - loss: 0.2715 - accuracy: 0.9221 - val_loss: 0.2608 - val_accuracy: 0.9262\n",
      "Epoch 37/50\n",
      "94/94 [==============================] - 0s 4ms/step - loss: 0.2687 - accuracy: 0.9230 - val_loss: 0.2583 - val_accuracy: 0.9275\n",
      "Epoch 38/50\n",
      "94/94 [==============================] - 0s 4ms/step - loss: 0.2662 - accuracy: 0.9240 - val_loss: 0.2564 - val_accuracy: 0.9273\n",
      "Epoch 39/50\n",
      "94/94 [==============================] - 0s 4ms/step - loss: 0.2636 - accuracy: 0.9248 - val_loss: 0.2546 - val_accuracy: 0.9288\n",
      "Epoch 40/50\n",
      "94/94 [==============================] - 0s 4ms/step - loss: 0.2612 - accuracy: 0.9253 - val_loss: 0.2522 - val_accuracy: 0.9294\n",
      "Epoch 41/50\n",
      "94/94 [==============================] - 0s 4ms/step - loss: 0.2588 - accuracy: 0.9260 - val_loss: 0.2501 - val_accuracy: 0.9298\n",
      "Epoch 42/50\n",
      "94/94 [==============================] - 0s 4ms/step - loss: 0.2565 - accuracy: 0.9266 - val_loss: 0.2480 - val_accuracy: 0.9300\n",
      "Epoch 43/50\n",
      "94/94 [==============================] - 0s 4ms/step - loss: 0.2541 - accuracy: 0.9273 - val_loss: 0.2463 - val_accuracy: 0.9305\n",
      "Epoch 44/50\n",
      "94/94 [==============================] - 0s 4ms/step - loss: 0.2519 - accuracy: 0.9282 - val_loss: 0.2444 - val_accuracy: 0.9313\n",
      "Epoch 45/50\n",
      "94/94 [==============================] - 0s 4ms/step - loss: 0.2498 - accuracy: 0.9286 - val_loss: 0.2426 - val_accuracy: 0.9315\n",
      "Epoch 46/50\n",
      "94/94 [==============================] - 0s 4ms/step - loss: 0.2475 - accuracy: 0.9293 - val_loss: 0.2414 - val_accuracy: 0.9318\n",
      "Epoch 47/50\n",
      "94/94 [==============================] - 0s 4ms/step - loss: 0.2454 - accuracy: 0.9299 - val_loss: 0.2397 - val_accuracy: 0.9314\n",
      "Epoch 48/50\n",
      "94/94 [==============================] - 0s 4ms/step - loss: 0.2434 - accuracy: 0.9302 - val_loss: 0.2374 - val_accuracy: 0.9328\n",
      "Epoch 49/50\n",
      "94/94 [==============================] - 0s 4ms/step - loss: 0.2414 - accuracy: 0.9307 - val_loss: 0.2358 - val_accuracy: 0.9334\n",
      "Epoch 50/50\n",
      "94/94 [==============================] - 0s 4ms/step - loss: 0.2392 - accuracy: 0.9312 - val_loss: 0.2344 - val_accuracy: 0.9334\n",
      "313/313 [==============================] - 1s 2ms/step - loss: 0.2341 - accuracy: 0.9297\n",
      "Test accuracy: 92.97 %\n"
     ]
    }
   ],
   "source": [
    "## Do not change anything below\n",
    "model = built_model(INPUT_SHAPE,128, NB_CLASSES)\n",
    "history = model.fit(X_train, Y_train,\n",
    "\t\tbatch_size=BATCH_SIZE, epochs=50,\n",
    "\t\tverbose=1, validation_split=0.2)\n",
    "# Evaluate the model\n",
    "test_loss, test_acc = model.evaluate(X_test, Y_test)\n",
    "print('Test accuracy: {:.2f} %'.format(test_acc*100))"
   ]
  },
  {
   "cell_type": "markdown",
   "metadata": {
    "id": "8L802oqkCBg8"
   },
   "source": [
    "<a id='ex_5'></a>\n",
    "**Exercise 5:** And now we do the same with different [optimizers](https://www.tensorflow.org/api_docs/python/tf/keras/optimizers) available in TensorFlow. Change the optimizers and compare the model performance in terms of accuracy. What do you understand from this?"
   ]
  },
  {
   "cell_type": "markdown",
   "metadata": {
    "id": "1M0Dx7O2CEW8"
   },
   "source": [
    "**Answer** I used a set of three different optimizers `[SGD, RMSProp, Adam]` and their accuracy was 96.3%, 97.9% and 98%. Adam and RMSProp provided slightly more accurate results than SGD."
   ]
  },
  {
   "cell_type": "code",
   "execution_count": 15,
   "metadata": {
    "executionInfo": {
     "elapsed": 85964,
     "status": "ok",
     "timestamp": 1604871348460,
     "user": {
      "displayName": "André Oliveira",
      "photoUrl": "",
      "userId": "17401140001147450864"
     },
     "user_tz": 0
    },
    "id": "2DsZiC8CB7j5"
   },
   "outputs": [],
   "source": [
    "# Task to do choose different optimizers\n",
    "opt = 'Adam'"
   ]
  },
  {
   "cell_type": "code",
   "execution_count": 16,
   "metadata": {
    "colab": {
     "base_uri": "https://localhost:8080/"
    },
    "executionInfo": {
     "elapsed": 141465,
     "status": "ok",
     "timestamp": 1604871403968,
     "user": {
      "displayName": "André Oliveira",
      "photoUrl": "",
      "userId": "17401140001147450864"
     },
     "user_tz": 0
    },
    "id": "DkcTxGl4CqK5",
    "outputId": "c1bf9997-2310-496f-e4cf-02e576e07ee0"
   },
   "outputs": [
    {
     "name": "stdout",
     "output_type": "stream",
     "text": [
      "Epoch 1/50\n",
      "375/375 [==============================] - 1s 3ms/step - loss: 0.3489 - accuracy: 0.9010 - val_loss: 0.1807 - val_accuracy: 0.9473\n",
      "Epoch 2/50\n",
      "375/375 [==============================] - 1s 3ms/step - loss: 0.1441 - accuracy: 0.9574 - val_loss: 0.1323 - val_accuracy: 0.9616\n",
      "Epoch 3/50\n",
      "375/375 [==============================] - 1s 3ms/step - loss: 0.0989 - accuracy: 0.9704 - val_loss: 0.1138 - val_accuracy: 0.9668\n",
      "Epoch 4/50\n",
      "375/375 [==============================] - 1s 3ms/step - loss: 0.0747 - accuracy: 0.9775 - val_loss: 0.0961 - val_accuracy: 0.9711\n",
      "Epoch 5/50\n",
      "375/375 [==============================] - 1s 3ms/step - loss: 0.0574 - accuracy: 0.9824 - val_loss: 0.0955 - val_accuracy: 0.9728\n",
      "Epoch 6/50\n",
      "375/375 [==============================] - 1s 3ms/step - loss: 0.0455 - accuracy: 0.9863 - val_loss: 0.1015 - val_accuracy: 0.9710\n",
      "Epoch 7/50\n",
      "375/375 [==============================] - 1s 3ms/step - loss: 0.0370 - accuracy: 0.9888 - val_loss: 0.0989 - val_accuracy: 0.9722\n",
      "Epoch 8/50\n",
      "375/375 [==============================] - 1s 3ms/step - loss: 0.0287 - accuracy: 0.9912 - val_loss: 0.0954 - val_accuracy: 0.9731\n",
      "Epoch 9/50\n",
      "375/375 [==============================] - 1s 3ms/step - loss: 0.0218 - accuracy: 0.9936 - val_loss: 0.1181 - val_accuracy: 0.9678\n",
      "Epoch 10/50\n",
      "375/375 [==============================] - 1s 3ms/step - loss: 0.0212 - accuracy: 0.9935 - val_loss: 0.1010 - val_accuracy: 0.9733\n",
      "Epoch 11/50\n",
      "375/375 [==============================] - 1s 3ms/step - loss: 0.0187 - accuracy: 0.9937 - val_loss: 0.1018 - val_accuracy: 0.9748\n",
      "Epoch 12/50\n",
      "375/375 [==============================] - 1s 3ms/step - loss: 0.0143 - accuracy: 0.9958 - val_loss: 0.0999 - val_accuracy: 0.9761\n",
      "Epoch 13/50\n",
      "375/375 [==============================] - 1s 3ms/step - loss: 0.0091 - accuracy: 0.9974 - val_loss: 0.1064 - val_accuracy: 0.9742\n",
      "Epoch 14/50\n",
      "375/375 [==============================] - 1s 3ms/step - loss: 0.0131 - accuracy: 0.9960 - val_loss: 0.1216 - val_accuracy: 0.9728\n",
      "Epoch 15/50\n",
      "375/375 [==============================] - 1s 3ms/step - loss: 0.0130 - accuracy: 0.9958 - val_loss: 0.1150 - val_accuracy: 0.9750\n",
      "Epoch 16/50\n",
      "375/375 [==============================] - 1s 3ms/step - loss: 0.0071 - accuracy: 0.9979 - val_loss: 0.1126 - val_accuracy: 0.9755\n",
      "Epoch 17/50\n",
      "375/375 [==============================] - 1s 3ms/step - loss: 0.0041 - accuracy: 0.9989 - val_loss: 0.1198 - val_accuracy: 0.9762\n",
      "Epoch 18/50\n",
      "375/375 [==============================] - 1s 3ms/step - loss: 0.0124 - accuracy: 0.9960 - val_loss: 0.1322 - val_accuracy: 0.9732\n",
      "Epoch 19/50\n",
      "375/375 [==============================] - 1s 3ms/step - loss: 0.0117 - accuracy: 0.9961 - val_loss: 0.1345 - val_accuracy: 0.9744\n",
      "Epoch 20/50\n",
      "375/375 [==============================] - 1s 3ms/step - loss: 0.0076 - accuracy: 0.9971 - val_loss: 0.1506 - val_accuracy: 0.9735\n",
      "Epoch 21/50\n",
      "375/375 [==============================] - 1s 3ms/step - loss: 0.0083 - accuracy: 0.9972 - val_loss: 0.1304 - val_accuracy: 0.9762\n",
      "Epoch 22/50\n",
      "375/375 [==============================] - 1s 3ms/step - loss: 0.0040 - accuracy: 0.9988 - val_loss: 0.1274 - val_accuracy: 0.9761\n",
      "Epoch 23/50\n",
      "375/375 [==============================] - 1s 3ms/step - loss: 0.0042 - accuracy: 0.9988 - val_loss: 0.1263 - val_accuracy: 0.9764\n",
      "Epoch 24/50\n",
      "375/375 [==============================] - 1s 3ms/step - loss: 0.0090 - accuracy: 0.9972 - val_loss: 0.1340 - val_accuracy: 0.9735\n",
      "Epoch 25/50\n",
      "375/375 [==============================] - 1s 3ms/step - loss: 0.0099 - accuracy: 0.9966 - val_loss: 0.1326 - val_accuracy: 0.9762\n",
      "Epoch 26/50\n",
      "375/375 [==============================] - 1s 3ms/step - loss: 0.0023 - accuracy: 0.9994 - val_loss: 0.1415 - val_accuracy: 0.9742\n",
      "Epoch 27/50\n",
      "375/375 [==============================] - 1s 3ms/step - loss: 0.0035 - accuracy: 0.9991 - val_loss: 0.1202 - val_accuracy: 0.9782\n",
      "Epoch 28/50\n",
      "375/375 [==============================] - 1s 3ms/step - loss: 4.2620e-04 - accuracy: 1.0000 - val_loss: 0.1241 - val_accuracy: 0.9777\n",
      "Epoch 29/50\n",
      "375/375 [==============================] - 1s 3ms/step - loss: 4.5878e-04 - accuracy: 0.9999 - val_loss: 0.1218 - val_accuracy: 0.9787\n",
      "Epoch 30/50\n",
      "375/375 [==============================] - 1s 3ms/step - loss: 0.0161 - accuracy: 0.9953 - val_loss: 0.2060 - val_accuracy: 0.9636\n",
      "Epoch 31/50\n",
      "375/375 [==============================] - 1s 3ms/step - loss: 0.0142 - accuracy: 0.9954 - val_loss: 0.1264 - val_accuracy: 0.9768\n",
      "Epoch 32/50\n",
      "375/375 [==============================] - 1s 3ms/step - loss: 0.0047 - accuracy: 0.9985 - val_loss: 0.1357 - val_accuracy: 0.9768\n",
      "Epoch 33/50\n",
      "375/375 [==============================] - 1s 3ms/step - loss: 0.0033 - accuracy: 0.9989 - val_loss: 0.1337 - val_accuracy: 0.9777\n",
      "Epoch 34/50\n",
      "375/375 [==============================] - 1s 3ms/step - loss: 0.0036 - accuracy: 0.9987 - val_loss: 0.1321 - val_accuracy: 0.9777\n",
      "Epoch 35/50\n",
      "375/375 [==============================] - 1s 3ms/step - loss: 0.0030 - accuracy: 0.9992 - val_loss: 0.1417 - val_accuracy: 0.9781\n",
      "Epoch 36/50\n",
      "375/375 [==============================] - 1s 3ms/step - loss: 3.5519e-04 - accuracy: 1.0000 - val_loss: 0.1278 - val_accuracy: 0.9805\n",
      "Epoch 37/50\n",
      "375/375 [==============================] - 1s 3ms/step - loss: 8.7339e-05 - accuracy: 1.0000 - val_loss: 0.1285 - val_accuracy: 0.9798\n",
      "Epoch 38/50\n",
      "375/375 [==============================] - 1s 3ms/step - loss: 6.2553e-05 - accuracy: 1.0000 - val_loss: 0.1291 - val_accuracy: 0.9798\n",
      "Epoch 39/50\n",
      "375/375 [==============================] - 1s 3ms/step - loss: 5.0888e-05 - accuracy: 1.0000 - val_loss: 0.1304 - val_accuracy: 0.9803\n",
      "Epoch 40/50\n",
      "375/375 [==============================] - 1s 3ms/step - loss: 4.2004e-05 - accuracy: 1.0000 - val_loss: 0.1314 - val_accuracy: 0.9804\n",
      "Epoch 41/50\n",
      "375/375 [==============================] - 1s 3ms/step - loss: 3.6154e-05 - accuracy: 1.0000 - val_loss: 0.1329 - val_accuracy: 0.9806\n",
      "Epoch 42/50\n",
      "375/375 [==============================] - 1s 3ms/step - loss: 3.0462e-05 - accuracy: 1.0000 - val_loss: 0.1343 - val_accuracy: 0.9807\n",
      "Epoch 43/50\n",
      "375/375 [==============================] - 1s 3ms/step - loss: 2.6273e-05 - accuracy: 1.0000 - val_loss: 0.1346 - val_accuracy: 0.9811\n",
      "Epoch 44/50\n",
      "375/375 [==============================] - 1s 3ms/step - loss: 2.2126e-05 - accuracy: 1.0000 - val_loss: 0.1370 - val_accuracy: 0.9808\n",
      "Epoch 45/50\n",
      "375/375 [==============================] - 1s 3ms/step - loss: 1.9103e-05 - accuracy: 1.0000 - val_loss: 0.1379 - val_accuracy: 0.9812\n",
      "Epoch 46/50\n",
      "375/375 [==============================] - 1s 3ms/step - loss: 1.6570e-05 - accuracy: 1.0000 - val_loss: 0.1394 - val_accuracy: 0.9808\n",
      "Epoch 47/50\n",
      "375/375 [==============================] - 1s 3ms/step - loss: 1.4292e-05 - accuracy: 1.0000 - val_loss: 0.1419 - val_accuracy: 0.9808\n",
      "Epoch 48/50\n",
      "375/375 [==============================] - 1s 3ms/step - loss: 1.2359e-05 - accuracy: 1.0000 - val_loss: 0.1434 - val_accuracy: 0.9808\n",
      "Epoch 49/50\n",
      "375/375 [==============================] - 1s 3ms/step - loss: 1.0620e-05 - accuracy: 1.0000 - val_loss: 0.1440 - val_accuracy: 0.9805\n",
      "Epoch 50/50\n",
      "375/375 [==============================] - 1s 3ms/step - loss: 9.2005e-06 - accuracy: 1.0000 - val_loss: 0.1466 - val_accuracy: 0.9803\n",
      "313/313 [==============================] - 1s 2ms/step - loss: 0.1321 - accuracy: 0.9820\n",
      "Test accuracy: 98.20 %\n"
     ]
    }
   ],
   "source": [
    "## Do not change anything below\n",
    "N_HIDDEN = 128\n",
    "model = built_model(INPUT_SHAPE,N_HIDDEN, NB_CLASSES, opt)\n",
    "history = model.fit(X_train, Y_train,\n",
    "\t\tbatch_size=128, epochs=50,\n",
    "\t\tverbose=1, validation_split=0.2)\n",
    "\n",
    "# Evaluate the model\n",
    "test_loss, test_acc = model.evaluate(X_test, Y_test)\n",
    "print('Test accuracy: {:.2f} %'.format(test_acc*100))"
   ]
  },
  {
   "cell_type": "markdown",
   "metadata": {
    "id": "-46TwuMnDdIB"
   },
   "source": [
    "<a id='ex_O'></a>\n",
    "### Optional Exercise: Fashion MNIST\n",
    "\n",
    "Repeat the above exercises (3-5) with different dataset. You can use Fashion MNIST another popular ML dataset. Are the results same? Comment.\n",
    "\n",
    "To download fashion mnist you can use the following code:\n",
    "\n",
    "```\n",
    "fashion_mnist = keras.datasets.fashion_mnist\n",
    "\n",
    "(X_train, Y_train), (X_test, Y_test) = fashion_mnist.load_data()\n",
    "```"
   ]
  },
  {
   "cell_type": "code",
   "execution_count": 17,
   "metadata": {
    "colab": {
     "base_uri": "https://localhost:8080/"
    },
    "executionInfo": {
     "elapsed": 142286,
     "status": "ok",
     "timestamp": 1604871404790,
     "user": {
      "displayName": "André Oliveira",
      "photoUrl": "",
      "userId": "17401140001147450864"
     },
     "user_tz": 0
    },
    "id": "kqc0ID8XDLCN",
    "outputId": "caf46c04-8eff-4471-a0cf-6849dd56c117"
   },
   "outputs": [
    {
     "name": "stdout",
     "output_type": "stream",
     "text": [
      "Downloading data from https://storage.googleapis.com/tensorflow/tf-keras-datasets/train-labels-idx1-ubyte.gz\n",
      "32768/29515 [=================================] - 0s 0us/step\n",
      "Downloading data from https://storage.googleapis.com/tensorflow/tf-keras-datasets/train-images-idx3-ubyte.gz\n",
      "26427392/26421880 [==============================] - 0s 0us/step\n",
      "Downloading data from https://storage.googleapis.com/tensorflow/tf-keras-datasets/t10k-labels-idx1-ubyte.gz\n",
      "8192/5148 [===============================================] - 0s 0us/step\n",
      "Downloading data from https://storage.googleapis.com/tensorflow/tf-keras-datasets/t10k-images-idx3-ubyte.gz\n",
      "4423680/4422102 [==============================] - 0s 0us/step\n"
     ]
    }
   ],
   "source": [
    "# Import data\n",
    "fashion_mnist = keras.datasets.fashion_mnist\n",
    " \n",
    "(X_train, Y_train), (X_test, Y_test) = fashion_mnist.load_data()"
   ]
  },
  {
   "cell_type": "code",
   "execution_count": 18,
   "metadata": {
    "colab": {
     "base_uri": "https://localhost:8080/"
    },
    "executionInfo": {
     "elapsed": 142668,
     "status": "ok",
     "timestamp": 1604871405179,
     "user": {
      "displayName": "André Oliveira",
      "photoUrl": "",
      "userId": "17401140001147450864"
     },
     "user_tz": 0
    },
    "id": "fX3kv5XtYNqH",
    "outputId": "62c6f9b1-330c-4572-df6e-fa82fad3496d"
   },
   "outputs": [
    {
     "name": "stdout",
     "output_type": "stream",
     "text": [
      "60000 train samples\n",
      "10000 test samples\n"
     ]
    }
   ],
   "source": [
    "# Processing the data\n",
    "assert(len(X_train.shape)==3), \"The input data is not of the right shape\"\n",
    "RESHAPED = X_train.shape[1]*X_train.shape[2]\n",
    "\n",
    "X_train = X_train.reshape(60000, RESHAPED)\n",
    "X_test = X_test.reshape(10000, RESHAPED)\n",
    "X_train = X_train.astype('float32')\n",
    "X_test = X_test.astype('float32')\n",
    "\n",
    "# Data Normalization\n",
    "X_train, X_test = X_train / 255.0, X_test / 255.0\n",
    "print(X_train.shape[0], 'train samples')\n",
    "print(X_test.shape[0], 'test samples')\n",
    "\n",
    "INPUT_SHAPE = RESHAPED\n",
    "NB_CLASSES = len(set(Y_train))\n",
    "\n",
    "# one-hot encode\n",
    "Y_train = tf.keras.utils.to_categorical(Y_train, NB_CLASSES)\n",
    "Y_test = tf.keras.utils.to_categorical(Y_test, NB_CLASSES)"
   ]
  },
  {
   "cell_type": "code",
   "execution_count": 19,
   "metadata": {
    "colab": {
     "base_uri": "https://localhost:8080/"
    },
    "executionInfo": {
     "elapsed": 394999,
     "status": "ok",
     "timestamp": 1604871657516,
     "user": {
      "displayName": "André Oliveira",
      "photoUrl": "",
      "userId": "17401140001147450864"
     },
     "user_tz": 0
    },
    "id": "3qrYgy3fjbnp",
    "outputId": "53170e5c-dfbf-42e4-f806-86a3007eb93d"
   },
   "outputs": [
    {
     "name": "stdout",
     "output_type": "stream",
     "text": [
      "Epoch 1/50\n",
      "Epoch 2/50\n",
      "Epoch 3/50\n",
      "Epoch 4/50\n",
      "Epoch 5/50\n",
      "Epoch 6/50\n",
      "Epoch 7/50\n",
      "Epoch 8/50\n",
      "Epoch 9/50\n",
      "Epoch 10/50\n",
      "Epoch 11/50\n",
      "Epoch 12/50\n",
      "Epoch 13/50\n",
      "Epoch 14/50\n",
      "Epoch 15/50\n",
      "Epoch 16/50\n",
      "Epoch 17/50\n",
      "Epoch 18/50\n",
      "Epoch 19/50\n",
      "Epoch 20/50\n",
      "Epoch 21/50\n",
      "Epoch 22/50\n",
      "Epoch 23/50\n",
      "Epoch 24/50\n",
      "Epoch 25/50\n",
      "Epoch 26/50\n",
      "Epoch 27/50\n",
      "Epoch 28/50\n",
      "Epoch 29/50\n",
      "Epoch 30/50\n",
      "Epoch 31/50\n",
      "Epoch 32/50\n",
      "Epoch 33/50\n",
      "Epoch 34/50\n",
      "Epoch 35/50\n",
      "Epoch 36/50\n",
      "Epoch 37/50\n",
      "Epoch 38/50\n",
      "Epoch 39/50\n",
      "Epoch 40/50\n",
      "Epoch 41/50\n",
      "Epoch 42/50\n",
      "Epoch 43/50\n",
      "Epoch 44/50\n",
      "Epoch 45/50\n",
      "Epoch 46/50\n",
      "Epoch 47/50\n",
      "Epoch 48/50\n",
      "Epoch 49/50\n",
      "Epoch 50/50\n",
      "313/313 [==============================] - 1s 2ms/step - loss: 0.3985 - accuracy: 0.8602\n",
      "Test accuracy: 86.02 %\n",
      "Epoch 1/50\n",
      "Epoch 2/50\n",
      "Epoch 3/50\n",
      "Epoch 4/50\n",
      "Epoch 5/50\n",
      "Epoch 6/50\n",
      "Epoch 7/50\n",
      "Epoch 8/50\n",
      "Epoch 9/50\n",
      "Epoch 10/50\n",
      "Epoch 11/50\n",
      "Epoch 12/50\n",
      "Epoch 13/50\n",
      "Epoch 14/50\n",
      "Epoch 15/50\n",
      "Epoch 16/50\n",
      "Epoch 17/50\n",
      "Epoch 18/50\n",
      "Epoch 19/50\n",
      "Epoch 20/50\n",
      "Epoch 21/50\n",
      "Epoch 22/50\n",
      "Epoch 23/50\n",
      "Epoch 24/50\n",
      "Epoch 25/50\n",
      "Epoch 26/50\n",
      "Epoch 27/50\n",
      "Epoch 28/50\n",
      "Epoch 29/50\n",
      "Epoch 30/50\n",
      "Epoch 31/50\n",
      "Epoch 32/50\n",
      "Epoch 33/50\n",
      "Epoch 34/50\n",
      "Epoch 35/50\n",
      "Epoch 36/50\n",
      "Epoch 37/50\n",
      "Epoch 38/50\n",
      "Epoch 39/50\n",
      "Epoch 40/50\n",
      "Epoch 41/50\n",
      "Epoch 42/50\n",
      "Epoch 43/50\n",
      "Epoch 44/50\n",
      "Epoch 45/50\n",
      "Epoch 46/50\n",
      "Epoch 47/50\n",
      "Epoch 48/50\n",
      "Epoch 49/50\n",
      "Epoch 50/50\n",
      "313/313 [==============================] - 1s 2ms/step - loss: 0.3863 - accuracy: 0.8664\n",
      "Test accuracy: 86.64 %\n",
      "Epoch 1/50\n",
      "Epoch 2/50\n",
      "Epoch 3/50\n",
      "Epoch 4/50\n",
      "Epoch 5/50\n",
      "Epoch 6/50\n",
      "Epoch 7/50\n",
      "Epoch 8/50\n",
      "Epoch 9/50\n",
      "Epoch 10/50\n",
      "Epoch 11/50\n",
      "Epoch 12/50\n",
      "Epoch 13/50\n",
      "Epoch 14/50\n",
      "Epoch 15/50\n",
      "Epoch 16/50\n",
      "Epoch 17/50\n",
      "Epoch 18/50\n",
      "Epoch 19/50\n",
      "Epoch 20/50\n",
      "Epoch 21/50\n",
      "Epoch 22/50\n",
      "Epoch 23/50\n",
      "Epoch 24/50\n",
      "Epoch 25/50\n",
      "Epoch 26/50\n",
      "Epoch 27/50\n",
      "Epoch 28/50\n",
      "Epoch 29/50\n",
      "Epoch 30/50\n",
      "Epoch 31/50\n",
      "Epoch 32/50\n",
      "Epoch 33/50\n",
      "Epoch 34/50\n",
      "Epoch 35/50\n",
      "Epoch 36/50\n",
      "Epoch 37/50\n",
      "Epoch 38/50\n",
      "Epoch 39/50\n",
      "Epoch 40/50\n",
      "Epoch 41/50\n",
      "Epoch 42/50\n",
      "Epoch 43/50\n",
      "Epoch 44/50\n",
      "Epoch 45/50\n",
      "Epoch 46/50\n",
      "Epoch 47/50\n",
      "Epoch 48/50\n",
      "Epoch 49/50\n",
      "Epoch 50/50\n",
      "313/313 [==============================] - 1s 2ms/step - loss: 0.3781 - accuracy: 0.8644\n",
      "Test accuracy: 86.44 %\n",
      "Epoch 1/50\n",
      "Epoch 2/50\n",
      "Epoch 3/50\n",
      "Epoch 4/50\n",
      "Epoch 5/50\n",
      "Epoch 6/50\n",
      "Epoch 7/50\n",
      "Epoch 8/50\n",
      "Epoch 9/50\n",
      "Epoch 10/50\n",
      "Epoch 11/50\n",
      "Epoch 12/50\n",
      "Epoch 13/50\n",
      "Epoch 14/50\n",
      "Epoch 15/50\n",
      "Epoch 16/50\n",
      "Epoch 17/50\n",
      "Epoch 18/50\n",
      "Epoch 19/50\n",
      "Epoch 20/50\n",
      "Epoch 21/50\n",
      "Epoch 22/50\n",
      "Epoch 23/50\n",
      "Epoch 24/50\n",
      "Epoch 25/50\n",
      "Epoch 26/50\n",
      "Epoch 27/50\n",
      "Epoch 28/50\n",
      "Epoch 29/50\n",
      "Epoch 30/50\n",
      "Epoch 31/50\n",
      "Epoch 32/50\n",
      "Epoch 33/50\n",
      "Epoch 34/50\n",
      "Epoch 35/50\n",
      "Epoch 36/50\n",
      "Epoch 37/50\n",
      "Epoch 38/50\n",
      "Epoch 39/50\n",
      "Epoch 40/50\n",
      "Epoch 41/50\n",
      "Epoch 42/50\n",
      "Epoch 43/50\n",
      "Epoch 44/50\n",
      "Epoch 45/50\n",
      "Epoch 46/50\n",
      "Epoch 47/50\n",
      "Epoch 48/50\n",
      "Epoch 49/50\n",
      "Epoch 50/50\n",
      "313/313 [==============================] - 1s 2ms/step - loss: 0.3732 - accuracy: 0.8660\n",
      "Test accuracy: 86.60 %\n",
      "Epoch 1/50\n",
      "Epoch 2/50\n",
      "Epoch 3/50\n",
      "Epoch 4/50\n",
      "Epoch 5/50\n",
      "Epoch 6/50\n",
      "Epoch 7/50\n",
      "Epoch 8/50\n",
      "Epoch 9/50\n",
      "Epoch 10/50\n",
      "Epoch 11/50\n",
      "Epoch 12/50\n",
      "Epoch 13/50\n",
      "Epoch 14/50\n",
      "Epoch 15/50\n",
      "Epoch 16/50\n",
      "Epoch 17/50\n",
      "Epoch 18/50\n",
      "Epoch 19/50\n",
      "Epoch 20/50\n",
      "Epoch 21/50\n",
      "Epoch 22/50\n",
      "Epoch 23/50\n",
      "Epoch 24/50\n",
      "Epoch 25/50\n",
      "Epoch 26/50\n",
      "Epoch 27/50\n",
      "Epoch 28/50\n",
      "Epoch 29/50\n",
      "Epoch 30/50\n",
      "Epoch 31/50\n",
      "Epoch 32/50\n",
      "Epoch 33/50\n",
      "Epoch 34/50\n",
      "Epoch 35/50\n",
      "Epoch 36/50\n",
      "Epoch 37/50\n",
      "Epoch 38/50\n",
      "Epoch 39/50\n",
      "Epoch 40/50\n",
      "Epoch 41/50\n",
      "Epoch 42/50\n",
      "Epoch 43/50\n",
      "Epoch 44/50\n",
      "Epoch 45/50\n",
      "Epoch 46/50\n",
      "Epoch 47/50\n",
      "Epoch 48/50\n",
      "Epoch 49/50\n",
      "Epoch 50/50\n",
      "313/313 [==============================] - 1s 2ms/step - loss: 0.3823 - accuracy: 0.8624\n",
      "Test accuracy: 86.24 %\n"
     ]
    },
    {
     "data": {
      "text/plain": [
       "[86.01999878883362,\n",
       " 86.64000034332275,\n",
       " 86.44000291824341,\n",
       " 86.59999966621399,\n",
       " 86.23999953269958]"
      ]
     },
     "execution_count": 19,
     "metadata": {
      "tags": []
     },
     "output_type": "execute_result"
    }
   ],
   "source": [
    "# N_HIDDEN\n",
    "\n",
    "LIST_N_HIDDEN = [32,64,128,256,512]\n",
    "N_HIDDEN_TEST_ACC = []\n",
    "\n",
    "for i in LIST_N_HIDDEN:\n",
    "  model = built_model(INPUT_SHAPE,i, NB_CLASSES)\n",
    "  history = model.fit(X_train, Y_train,\n",
    "      batch_size=128, epochs=50,\n",
    "      verbose=-1, validation_split=0.2)\n",
    "\n",
    "  # Evaluate the model\n",
    "  test_loss, test_acc = model.evaluate(X_test, Y_test)\n",
    "  print('Test accuracy: {:.2f} %'.format(test_acc*100))\n",
    "  N_HIDDEN_TEST_ACC.append(test_acc*100)\n",
    "\n",
    "N_HIDDEN_TEST_ACC"
   ]
  },
  {
   "cell_type": "markdown",
   "metadata": {
    "id": "vFt_0J9zlVX0"
   },
   "source": [
    "Likewise the prior example, an increase of the number of hidden units has promoted an increase of the model's accuracy"
   ]
  },
  {
   "cell_type": "code",
   "execution_count": 20,
   "metadata": {
    "colab": {
     "base_uri": "https://localhost:8080/"
    },
    "executionInfo": {
     "elapsed": 754175,
     "status": "ok",
     "timestamp": 1604872016698,
     "user": {
      "displayName": "André Oliveira",
      "photoUrl": "",
      "userId": "17401140001147450864"
     },
     "user_tz": 0
    },
    "id": "U7pMHDEejbtN",
    "outputId": "358236c8-1eef-4f37-a91e-427599c091c4"
   },
   "outputs": [
    {
     "name": "stdout",
     "output_type": "stream",
     "text": [
      "Epoch 1/50\n",
      "Epoch 2/50\n",
      "Epoch 3/50\n",
      "Epoch 4/50\n",
      "Epoch 5/50\n",
      "Epoch 6/50\n",
      "Epoch 7/50\n",
      "Epoch 8/50\n",
      "Epoch 9/50\n",
      "Epoch 10/50\n",
      "Epoch 11/50\n",
      "Epoch 12/50\n",
      "Epoch 13/50\n",
      "Epoch 14/50\n",
      "Epoch 15/50\n",
      "Epoch 16/50\n",
      "Epoch 17/50\n",
      "Epoch 18/50\n",
      "Epoch 19/50\n",
      "Epoch 20/50\n",
      "Epoch 21/50\n",
      "Epoch 22/50\n",
      "Epoch 23/50\n",
      "Epoch 24/50\n",
      "Epoch 25/50\n",
      "Epoch 26/50\n",
      "Epoch 27/50\n",
      "Epoch 28/50\n",
      "Epoch 29/50\n",
      "Epoch 30/50\n",
      "Epoch 31/50\n",
      "Epoch 32/50\n",
      "Epoch 33/50\n",
      "Epoch 34/50\n",
      "Epoch 35/50\n",
      "Epoch 36/50\n",
      "Epoch 37/50\n",
      "Epoch 38/50\n",
      "Epoch 39/50\n",
      "Epoch 40/50\n",
      "Epoch 41/50\n",
      "Epoch 42/50\n",
      "Epoch 43/50\n",
      "Epoch 44/50\n",
      "Epoch 45/50\n",
      "Epoch 46/50\n",
      "Epoch 47/50\n",
      "Epoch 48/50\n",
      "Epoch 49/50\n",
      "Epoch 50/50\n",
      "313/313 [==============================] - 1s 2ms/step - loss: 0.3477 - accuracy: 0.8802\n",
      "Test accuracy: 88.02 %\n",
      "Epoch 1/50\n",
      "Epoch 2/50\n",
      "Epoch 3/50\n",
      "Epoch 4/50\n",
      "Epoch 5/50\n",
      "Epoch 6/50\n",
      "Epoch 7/50\n",
      "Epoch 8/50\n",
      "Epoch 9/50\n",
      "Epoch 10/50\n",
      "Epoch 11/50\n",
      "Epoch 12/50\n",
      "Epoch 13/50\n",
      "Epoch 14/50\n",
      "Epoch 15/50\n",
      "Epoch 16/50\n",
      "Epoch 17/50\n",
      "Epoch 18/50\n",
      "Epoch 19/50\n",
      "Epoch 20/50\n",
      "Epoch 21/50\n",
      "Epoch 22/50\n",
      "Epoch 23/50\n",
      "Epoch 24/50\n",
      "Epoch 25/50\n",
      "Epoch 26/50\n",
      "Epoch 27/50\n",
      "Epoch 28/50\n",
      "Epoch 29/50\n",
      "Epoch 30/50\n",
      "Epoch 31/50\n",
      "Epoch 32/50\n",
      "Epoch 33/50\n",
      "Epoch 34/50\n",
      "Epoch 35/50\n",
      "Epoch 36/50\n",
      "Epoch 37/50\n",
      "Epoch 38/50\n",
      "Epoch 39/50\n",
      "Epoch 40/50\n",
      "Epoch 41/50\n",
      "Epoch 42/50\n",
      "Epoch 43/50\n",
      "Epoch 44/50\n",
      "Epoch 45/50\n",
      "Epoch 46/50\n",
      "Epoch 47/50\n",
      "Epoch 48/50\n",
      "Epoch 49/50\n",
      "Epoch 50/50\n",
      "313/313 [==============================] - 1s 2ms/step - loss: 0.3492 - accuracy: 0.8759\n",
      "Test accuracy: 87.59 %\n",
      "Epoch 1/50\n",
      "Epoch 2/50\n",
      "Epoch 3/50\n",
      "Epoch 4/50\n",
      "Epoch 5/50\n",
      "Epoch 6/50\n",
      "Epoch 7/50\n",
      "Epoch 8/50\n",
      "Epoch 9/50\n",
      "Epoch 10/50\n",
      "Epoch 11/50\n",
      "Epoch 12/50\n",
      "Epoch 13/50\n",
      "Epoch 14/50\n",
      "Epoch 15/50\n",
      "Epoch 16/50\n",
      "Epoch 17/50\n",
      "Epoch 18/50\n",
      "Epoch 19/50\n",
      "Epoch 20/50\n",
      "Epoch 21/50\n",
      "Epoch 22/50\n",
      "Epoch 23/50\n",
      "Epoch 24/50\n",
      "Epoch 25/50\n",
      "Epoch 26/50\n",
      "Epoch 27/50\n",
      "Epoch 28/50\n",
      "Epoch 29/50\n",
      "Epoch 30/50\n",
      "Epoch 31/50\n",
      "Epoch 32/50\n",
      "Epoch 33/50\n",
      "Epoch 34/50\n",
      "Epoch 35/50\n",
      "Epoch 36/50\n",
      "Epoch 37/50\n",
      "Epoch 38/50\n",
      "Epoch 39/50\n",
      "Epoch 40/50\n",
      "Epoch 41/50\n",
      "Epoch 42/50\n",
      "Epoch 43/50\n",
      "Epoch 44/50\n",
      "Epoch 45/50\n",
      "Epoch 46/50\n",
      "Epoch 47/50\n",
      "Epoch 48/50\n",
      "Epoch 49/50\n",
      "Epoch 50/50\n",
      "313/313 [==============================] - 1s 2ms/step - loss: 0.3764 - accuracy: 0.8682\n",
      "Test accuracy: 86.82 %\n",
      "Epoch 1/50\n",
      "Epoch 2/50\n",
      "Epoch 3/50\n",
      "Epoch 4/50\n",
      "Epoch 5/50\n",
      "Epoch 6/50\n",
      "Epoch 7/50\n",
      "Epoch 8/50\n",
      "Epoch 9/50\n",
      "Epoch 10/50\n",
      "Epoch 11/50\n",
      "Epoch 12/50\n",
      "Epoch 13/50\n",
      "Epoch 14/50\n",
      "Epoch 15/50\n",
      "Epoch 16/50\n",
      "Epoch 17/50\n",
      "Epoch 18/50\n",
      "Epoch 19/50\n",
      "Epoch 20/50\n",
      "Epoch 21/50\n",
      "Epoch 22/50\n",
      "Epoch 23/50\n",
      "Epoch 24/50\n",
      "Epoch 25/50\n",
      "Epoch 26/50\n",
      "Epoch 27/50\n",
      "Epoch 28/50\n",
      "Epoch 29/50\n",
      "Epoch 30/50\n",
      "Epoch 31/50\n",
      "Epoch 32/50\n",
      "Epoch 33/50\n",
      "Epoch 34/50\n",
      "Epoch 35/50\n",
      "Epoch 36/50\n",
      "Epoch 37/50\n",
      "Epoch 38/50\n",
      "Epoch 39/50\n",
      "Epoch 40/50\n",
      "Epoch 41/50\n",
      "Epoch 42/50\n",
      "Epoch 43/50\n",
      "Epoch 44/50\n",
      "Epoch 45/50\n",
      "Epoch 46/50\n",
      "Epoch 47/50\n",
      "Epoch 48/50\n",
      "Epoch 49/50\n",
      "Epoch 50/50\n",
      "313/313 [==============================] - 1s 2ms/step - loss: 0.4230 - accuracy: 0.8471\n",
      "Test accuracy: 84.71 %\n",
      "Epoch 1/50\n",
      "Epoch 2/50\n",
      "Epoch 3/50\n",
      "Epoch 4/50\n",
      "Epoch 5/50\n",
      "Epoch 6/50\n",
      "Epoch 7/50\n",
      "Epoch 8/50\n",
      "Epoch 9/50\n",
      "Epoch 10/50\n",
      "Epoch 11/50\n",
      "Epoch 12/50\n",
      "Epoch 13/50\n",
      "Epoch 14/50\n",
      "Epoch 15/50\n",
      "Epoch 16/50\n",
      "Epoch 17/50\n",
      "Epoch 18/50\n",
      "Epoch 19/50\n",
      "Epoch 20/50\n",
      "Epoch 21/50\n",
      "Epoch 22/50\n",
      "Epoch 23/50\n",
      "Epoch 24/50\n",
      "Epoch 25/50\n",
      "Epoch 26/50\n",
      "Epoch 27/50\n",
      "Epoch 28/50\n",
      "Epoch 29/50\n",
      "Epoch 30/50\n",
      "Epoch 31/50\n",
      "Epoch 32/50\n",
      "Epoch 33/50\n",
      "Epoch 34/50\n",
      "Epoch 35/50\n",
      "Epoch 36/50\n",
      "Epoch 37/50\n",
      "Epoch 38/50\n",
      "Epoch 39/50\n",
      "Epoch 40/50\n",
      "Epoch 41/50\n",
      "Epoch 42/50\n",
      "Epoch 43/50\n",
      "Epoch 44/50\n",
      "Epoch 45/50\n",
      "Epoch 46/50\n",
      "Epoch 47/50\n",
      "Epoch 48/50\n",
      "Epoch 49/50\n",
      "Epoch 50/50\n",
      "313/313 [==============================] - 1s 2ms/step - loss: 0.4529 - accuracy: 0.8427\n",
      "Test accuracy: 84.27 %\n"
     ]
    },
    {
     "data": {
      "text/plain": [
       "[88.02000284194946,\n",
       " 87.58999705314636,\n",
       " 86.82000041007996,\n",
       " 84.7100019454956,\n",
       " 84.27000045776367]"
      ]
     },
     "execution_count": 20,
     "metadata": {
      "tags": []
     },
     "output_type": "execute_result"
    }
   ],
   "source": [
    "# BATCH_SIZE\n",
    "\n",
    "BATCH_SIZE_LIST = [32,64,128,256,512]\n",
    "BATCH_SIZE_TEST_ACC = []\n",
    "\n",
    "for j in BATCH_SIZE_LIST:\n",
    "  model = built_model(INPUT_SHAPE,128, NB_CLASSES)\n",
    "  history = model.fit(X_train, Y_train,\n",
    "      batch_size=j, epochs=50,\n",
    "      verbose=-1, validation_split=0.2)\n",
    "  # Evaluate the model\n",
    "  test_loss, test_acc = model.evaluate(X_test, Y_test)\n",
    "  print('Test accuracy: {:.2f} %'.format(test_acc*100))\n",
    "  BATCH_SIZE_TEST_ACC.append(test_acc*100)\n",
    "\n",
    "BATCH_SIZE_TEST_ACC"
   ]
  },
  {
   "cell_type": "markdown",
   "metadata": {
    "id": "hkHjortimDSX"
   },
   "source": [
    "As in the previous exercise, the accuracy of the model has decreased with the increase of batch size."
   ]
  },
  {
   "cell_type": "code",
   "execution_count": 21,
   "metadata": {
    "colab": {
     "base_uri": "https://localhost:8080/"
    },
    "executionInfo": {
     "elapsed": 913503,
     "status": "ok",
     "timestamp": 1604872176032,
     "user": {
      "displayName": "André Oliveira",
      "photoUrl": "",
      "userId": "17401140001147450864"
     },
     "user_tz": 0
    },
    "id": "Ds2D_q6Mjbvj",
    "outputId": "f6f5a8cd-d265-43e8-e52e-cf254d99c54e"
   },
   "outputs": [
    {
     "name": "stdout",
     "output_type": "stream",
     "text": [
      "Epoch 1/50\n",
      "Epoch 2/50\n",
      "Epoch 3/50\n",
      "Epoch 4/50\n",
      "Epoch 5/50\n",
      "Epoch 6/50\n",
      "Epoch 7/50\n",
      "Epoch 8/50\n",
      "Epoch 9/50\n",
      "Epoch 10/50\n",
      "Epoch 11/50\n",
      "Epoch 12/50\n",
      "Epoch 13/50\n",
      "Epoch 14/50\n",
      "Epoch 15/50\n",
      "Epoch 16/50\n",
      "Epoch 17/50\n",
      "Epoch 18/50\n",
      "Epoch 19/50\n",
      "Epoch 20/50\n",
      "Epoch 21/50\n",
      "Epoch 22/50\n",
      "Epoch 23/50\n",
      "Epoch 24/50\n",
      "Epoch 25/50\n",
      "Epoch 26/50\n",
      "Epoch 27/50\n",
      "Epoch 28/50\n",
      "Epoch 29/50\n",
      "Epoch 30/50\n",
      "Epoch 31/50\n",
      "Epoch 32/50\n",
      "Epoch 33/50\n",
      "Epoch 34/50\n",
      "Epoch 35/50\n",
      "Epoch 36/50\n",
      "Epoch 37/50\n",
      "Epoch 38/50\n",
      "Epoch 39/50\n",
      "Epoch 40/50\n",
      "Epoch 41/50\n",
      "Epoch 42/50\n",
      "Epoch 43/50\n",
      "Epoch 44/50\n",
      "Epoch 45/50\n",
      "Epoch 46/50\n",
      "Epoch 47/50\n",
      "Epoch 48/50\n",
      "Epoch 49/50\n",
      "Epoch 50/50\n",
      "313/313 [==============================] - 1s 2ms/step - loss: 0.3775 - accuracy: 0.8649\n",
      "Test accuracy: 86.49 %\n",
      "Epoch 1/50\n",
      "Epoch 2/50\n",
      "Epoch 3/50\n",
      "Epoch 4/50\n",
      "Epoch 5/50\n",
      "Epoch 6/50\n",
      "Epoch 7/50\n",
      "Epoch 8/50\n",
      "Epoch 9/50\n",
      "Epoch 10/50\n",
      "Epoch 11/50\n",
      "Epoch 12/50\n",
      "Epoch 13/50\n",
      "Epoch 14/50\n",
      "Epoch 15/50\n",
      "Epoch 16/50\n",
      "Epoch 17/50\n",
      "Epoch 18/50\n",
      "Epoch 19/50\n",
      "Epoch 20/50\n",
      "Epoch 21/50\n",
      "Epoch 22/50\n",
      "Epoch 23/50\n",
      "Epoch 24/50\n",
      "Epoch 25/50\n",
      "Epoch 26/50\n",
      "Epoch 27/50\n",
      "Epoch 28/50\n",
      "Epoch 29/50\n",
      "Epoch 30/50\n",
      "Epoch 31/50\n",
      "Epoch 32/50\n",
      "Epoch 33/50\n",
      "Epoch 34/50\n",
      "Epoch 35/50\n",
      "Epoch 36/50\n",
      "Epoch 37/50\n",
      "Epoch 38/50\n",
      "Epoch 39/50\n",
      "Epoch 40/50\n",
      "Epoch 41/50\n",
      "Epoch 42/50\n",
      "Epoch 43/50\n",
      "Epoch 44/50\n",
      "Epoch 45/50\n",
      "Epoch 46/50\n",
      "Epoch 47/50\n",
      "Epoch 48/50\n",
      "Epoch 49/50\n",
      "Epoch 50/50\n",
      "313/313 [==============================] - 1s 2ms/step - loss: 0.6847 - accuracy: 0.8820\n",
      "Test accuracy: 88.20 %\n",
      "Epoch 1/50\n",
      "Epoch 2/50\n",
      "Epoch 3/50\n",
      "Epoch 4/50\n",
      "Epoch 5/50\n",
      "Epoch 6/50\n",
      "Epoch 7/50\n",
      "Epoch 8/50\n",
      "Epoch 9/50\n",
      "Epoch 10/50\n",
      "Epoch 11/50\n",
      "Epoch 12/50\n",
      "Epoch 13/50\n",
      "Epoch 14/50\n",
      "Epoch 15/50\n",
      "Epoch 16/50\n",
      "Epoch 17/50\n",
      "Epoch 18/50\n",
      "Epoch 19/50\n",
      "Epoch 20/50\n",
      "Epoch 21/50\n",
      "Epoch 22/50\n",
      "Epoch 23/50\n",
      "Epoch 24/50\n",
      "Epoch 25/50\n",
      "Epoch 26/50\n",
      "Epoch 27/50\n",
      "Epoch 28/50\n",
      "Epoch 29/50\n",
      "Epoch 30/50\n",
      "Epoch 31/50\n",
      "Epoch 32/50\n",
      "Epoch 33/50\n",
      "Epoch 34/50\n",
      "Epoch 35/50\n",
      "Epoch 36/50\n",
      "Epoch 37/50\n",
      "Epoch 38/50\n",
      "Epoch 39/50\n",
      "Epoch 40/50\n",
      "Epoch 41/50\n",
      "Epoch 42/50\n",
      "Epoch 43/50\n",
      "Epoch 44/50\n",
      "Epoch 45/50\n",
      "Epoch 46/50\n",
      "Epoch 47/50\n",
      "Epoch 48/50\n",
      "Epoch 49/50\n",
      "Epoch 50/50\n",
      "313/313 [==============================] - 1s 2ms/step - loss: 0.5717 - accuracy: 0.8897\n",
      "Test accuracy: 88.97 %\n"
     ]
    },
    {
     "data": {
      "text/plain": [
       "[86.489999294281, 88.20000290870667, 88.96999955177307]"
      ]
     },
     "execution_count": 21,
     "metadata": {
      "tags": []
     },
     "output_type": "execute_result"
    }
   ],
   "source": [
    "# OPTIMIZER\n",
    "\n",
    "opt_list = ['SGD', 'RMSProp', 'Adam']\n",
    "opt_test_acc = []\n",
    "\n",
    "for k in opt_list:\n",
    "  N_HIDDEN = 128\n",
    "  model = built_model(INPUT_SHAPE,N_HIDDEN, NB_CLASSES, k)\n",
    "  history = model.fit(X_train, Y_train,\n",
    "      batch_size=128, epochs=50,\n",
    "      verbose=-1, validation_split=0.2)\n",
    "\n",
    "  # Evaluate the model\n",
    "  test_loss, test_acc = model.evaluate(X_test, Y_test)\n",
    "  print('Test accuracy: {:.2f} %'.format(test_acc*100))\n",
    "  opt_test_acc.append(test_acc*100)\n",
    "\n",
    "opt_test_acc"
   ]
  },
  {
   "cell_type": "markdown",
   "metadata": {
    "id": "UJV8aI6fmsOR"
   },
   "source": [
    "As previously observed, SGD was overperformed by Adam and RMSProp and, once again, Adam has proved to be the optimizer getting the most accurate results."
   ]
  },
  {
   "cell_type": "markdown",
   "metadata": {
    "id": "LqMoX5w9tORb"
   },
   "source": [
    "In conclusion, we can observe that the assumptions previously made were all verified."
   ]
  },
  {
   "cell_type": "code",
   "execution_count": 21,
   "metadata": {
    "executionInfo": {
     "elapsed": 913503,
     "status": "ok",
     "timestamp": 1604872176034,
     "user": {
      "displayName": "André Oliveira",
      "photoUrl": "",
      "userId": "17401140001147450864"
     },
     "user_tz": 0
    },
    "id": "AjOiF5FMjbyJ"
   },
   "outputs": [],
   "source": []
  }
 ],
 "metadata": {
  "accelerator": "GPU",
  "colab": {
   "collapsed_sections": [],
   "name": "Exercise_Classification.ipynb",
   "provenance": [
    {
     "file_id": "https://github.com/amita-kapoor/UO-Artificial-Intelligence-Cloud-and-Edge-Implementations/blob/master/Excercise_Classification.ipynb",
     "timestamp": 1604759740621
    }
   ],
   "toc_visible": true
  },
  "kernelspec": {
   "display_name": "Python 3",
   "language": "python",
   "name": "python3"
  },
  "language_info": {
   "codemirror_mode": {
    "name": "ipython",
    "version": 3
   },
   "file_extension": ".py",
   "mimetype": "text/x-python",
   "name": "python",
   "nbconvert_exporter": "python",
   "pygments_lexer": "ipython3",
   "version": "3.7.1"
  }
 },
 "nbformat": 4,
 "nbformat_minor": 1
}
